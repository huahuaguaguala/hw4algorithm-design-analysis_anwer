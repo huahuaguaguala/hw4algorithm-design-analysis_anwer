{
 "cells": [
  {
   "cell_type": "markdown",
   "metadata": {},
   "source": [
    "## algorithm design and anlysis-2025 spring  homework 2\n",
    "**Deadline**：2025.5.14\n",
    "\n",
    "**name**:\n",
    "\n",
    "\n",
    "note：\n",
    "---\n",
    "1. 带有\\*的题目，申请免上课的同学，必须完成，其他同学选作；\n",
    "2. 请独立完成，如求助了他人或者大模型，请著明，并且不可省略算法分析部分；\n",
    "4. 如若作答有雷同，全部取消成绩；\n",
    "3. 需要书面作答的题目，可以通过引用图片的形式添加，但是注意上传项目时包含所引用的图片的源文件；\n",
    "4. $log_n$ 默认表示$log_2{n}$;"
   ]
  },
  {
   "cell_type": "markdown",
   "metadata": {},
   "source": [
    "## 问题 1  \n",
    "\n",
    "> 给定一个已排序的链表的头 `head` ， *删除所有重复的元素，使每个元素只出现一次* 。返回 *已排序的链表* 。链表的类如下所示：\n",
    "\n",
    "```python\n",
    "class NodeList:\n",
    "    def __init__(self, val=None, right=None):\n",
    "        self.val   = val\n",
    "        self.right = right\n",
    "```\n",
    "\n",
    "输入是一个数组，你首先需要将数组转化为链表，然后删除链表中的重复元素，再遍历链表元素，以一个数组的形式返回。请设计一个算法解决上述任务，分析算法设计思路，计算时间复杂度, 并基于python编程实现。\n",
    "\n",
    "e.g.  输入：head=[1, 1, 2, 3, 3]   输出：[1, 2, 3]\n",
    "\n",
    "![image-20240502110020439](./fig/hw2q1.png)\n",
    "\n"
   ]
  },
  {
   "cell_type": "markdown",
   "metadata": {},
   "source": [
    "idea：数组转为链表，即在链表节点中添加值val和其对应指向下一个数的指针right,时间复杂度为$O(n)$;链表遍历，判断当前节点值与下一个节点值是否相同，相同则修改指针指向，实现删除,时间复杂度为$O(n)$;再遍历一次，将链表元素加入到数组中,时间复杂度为$O(n)$。故总时间复杂度为$O(n)$。"
   ]
  },
  {
   "cell_type": "code",
   "execution_count": 1,
   "metadata": {},
   "outputs": [
    {
     "name": "stdout",
     "output_type": "stream",
     "text": [
      "[1, 2, 3]\n"
     ]
    }
   ],
   "source": [
    "# add your code here\n",
    "class NodeList:\n",
    "    def __init__(self, val=None, right=None):\n",
    "        self.val = val\n",
    "        self.right = right\n",
    "\n",
    "# 将数组转为链表\n",
    "def array_to_linked_list(arr):\n",
    "    if not arr:\n",
    "        return None\n",
    "    head = NodeList(arr[0])\n",
    "    curr = head\n",
    "    for val in arr[1:]:\n",
    "        curr.right = NodeList(val)\n",
    "        curr = curr.right\n",
    "    return head\n",
    "\n",
    "def remove_same(head):\n",
    "    curr = head\n",
    "    while curr and curr.right:\n",
    "        if curr.val == curr.right.val:\n",
    "            curr.right = curr.right.right  # 跳过重复节点\n",
    "        else:\n",
    "            curr = curr.right\n",
    "    return head\n",
    "\n",
    "def linked_list_to_array(head):\n",
    "    result = []\n",
    "    while head:\n",
    "        result.append(head.val)\n",
    "        head = head.right\n",
    "    return result\n",
    "\n",
    "def diff(arr):\n",
    "    head = array_to_linked_list(arr)\n",
    "    head = remove_same(head)\n",
    "    return linked_list_to_array(head)\n",
    "\n",
    "print(diff([1, 1, 2, 3, 3])) \n",
    "\n",
    "# your algorithm time complexity is:O(n)"
   ]
  },
  {
   "cell_type": "markdown",
   "metadata": {},
   "source": [
    "## 问题 2  \n",
    "\n",
    "> 下面是一个经典的算法问题：\n",
    ">\n",
    "> - 给定包含n个整数的一个整数数组 `nums` 和一个整数目标值 `target`，请你在该数组中找出 **和为目标值** *`target`* 的那 **两个** 整数，并返回它们的**数组下标**。假设每种输入只会对应一个答案。但是，数组中同一个元素在答案里不能重复出现。你可以按任意顺序返回答案。\n",
    ">\n",
    "> 由于要多次查找数组中元素的位置，为了提高查询效率可以使用哈希表来存储数组中的数据，在哈希表中查询一个元素的复杂度为O(1)。 已知python中的字典是使用哈希表实现的，即使用`dict[key]`查询对应的value时间复杂度为O(1), python提供了查询字典是否包含某个key的功能：`key in dict`，时间复杂度也是O(1)\n",
    "\n",
    "请根据上面信息，设计一个时间复杂度为O(n) 的算法，解决上述算法问题\n",
    "\n",
    "e.g.   \n",
    "\n",
    "输入：nums=[2,7,11,15], target=9， 输出：[0，1]\n",
    "\n",
    "输入：nums=[3,2,4], target=6, 输出：[1,2]\n",
    "\n",
    "输入：nums=[3,3], target=6,  输出：[0,1]\n"
   ]
  },
  {
   "cell_type": "markdown",
   "metadata": {},
   "source": [
    "idea:两数之和问题，采用hash算法，遍历查找targt-num是否在hash表中已存在，存在即这是一组两数之和答案"
   ]
  },
  {
   "cell_type": "code",
   "execution_count": 7,
   "metadata": {},
   "outputs": [
    {
     "name": "stdout",
     "output_type": "stream",
     "text": [
      "[0, 1]\n"
     ]
    }
   ],
   "source": [
    "# add your code here\n",
    "def twoSum(nums, target):\n",
    "    hashtable = dict()\n",
    "    for i, num in enumerate(nums):\n",
    "        if target - num in hashtable:\n",
    "            return [hashtable[target - num], i]\n",
    "        hashtable[nums[i]] = i\n",
    "    return []\n",
    "nums =[2,7,11,15]\n",
    "target=9\n",
    "print(twoSum(nums,target))\n",
    "# your algorithm time complexity is: O(n)"
   ]
  },
  {
   "cell_type": "markdown",
   "metadata": {},
   "source": [
    "## 问题 3:   \n",
    "\n",
    "> 栈是一种常用的数据结构，编译器中通常使用栈来实现表达式求值。\n",
    ">\n",
    "> 以表达式 $3+5 \\times 8-6$​ 为例。编译器使用两个栈来完成运算，即一个栈保持操作数，另一个栈保存运算符。\n",
    ">\n",
    "> 1. 从左向右遍历表达式，遇到数字就压入操作数栈；\n",
    ">\n",
    "> 2. 遇到运算符，就与运算符栈的栈顶元素进行比较。如果比运算符栈顶元素的优先级高，就将当前运算符压入栈；如果比运算符栈顶元素的优先级低或者相同，从运算符栈中取栈顶运算符，从操作数栈的栈顶取 2 个操作数，然后进行计算，再把计算完的结果压入操作数栈，继续比较。\n",
    ">\n",
    "> 下图是 $3+5 \\times 8-6$  这个表达式的计算过程：\n",
    "\n",
    "![figure](./fig/hw2q3.png)\n",
    "\n",
    "根据上述原理，请设计一个算法完成表达式的运算，当输入为表达式字符串，返回对应的计算结果。分析算法设计思路，计算时间复杂度，并基于python编程实现\n",
    "\n",
    "**note：**\n",
    "\n",
    "1. 假设输入的表达式只会出现加（“+”），减 “-”， 乘“*”，除 “/” 四个运算符, 表达式中只会出现正整数\n",
    "2. python中` str.isdigit()`函数可以判断字符串str是否为数字，\n",
    "\n",
    "\n",
    "\n",
    "e.g. :\n",
    "---\n",
    "\n",
    "1. 输入：“$3+5 * 8 -6$”   输出：37\n",
    "\n",
    "2. 输入：“$34+13*9 + 44-12/3$”  输出：191"
   ]
  },
  {
   "cell_type": "markdown",
   "metadata": {},
   "source": [
    "idea：一个操作数栈，一个操作符栈，在每次操作符进栈时与当前栈顶操作符优先级进行比较，若优先级高于当前栈顶操作符，则入栈，反之则将栈顶操作符与对应的两个数计算。此操作分为遍历入栈和判断计算，均为$O(n)$的时间复杂度，故最终的时间复杂度为$O(n)$。"
   ]
  },
  {
   "cell_type": "code",
   "execution_count": 13,
   "metadata": {},
   "outputs": [
    {
     "name": "stdout",
     "output_type": "stream",
     "text": [
      "37\n",
      "191.0\n"
     ]
    }
   ],
   "source": [
    "# add your idea here\n",
    "def calculate(s):\n",
    "    def compute(op: str, a: int, b: int) -> int:\n",
    "        if op == '+':\n",
    "            return a + b\n",
    "        elif op == '-':\n",
    "            return a - b\n",
    "        elif op == '*':\n",
    "            return a * b\n",
    "        elif op == '/':\n",
    "            return a / b\n",
    "        else:\n",
    "            return 0\n",
    "\n",
    "    def precedence(op):\n",
    "        if op == '+' or op == '-':\n",
    "            return 1\n",
    "        elif op == '*' or op == '/':\n",
    "            return 2\n",
    "        else:\n",
    "            return 0\n",
    "\n",
    "    num_stack = []\n",
    "    op_stack = []\n",
    "    i = 0\n",
    "    n = len(s)\n",
    "    while i < n:\n",
    "        if s[i] == ' ':\n",
    "            i += 1\n",
    "            continue\n",
    "        if s[i].isdigit():\n",
    "            num = 0\n",
    "            while i < n and s[i].isdigit():\n",
    "                num = num * 10 + int(s[i])\n",
    "                i += 1\n",
    "            num_stack.append(num)\n",
    "        else:\n",
    "            while op_stack and precedence(op_stack[-1]) >= precedence(s[i]):\n",
    "                op = op_stack.pop()\n",
    "                b = num_stack.pop()\n",
    "                a = num_stack.pop()\n",
    "                num_stack.append(compute(op, a, b))\n",
    "            op_stack.append(s[i])\n",
    "            i += 1\n",
    "\n",
    "    while op_stack:\n",
    "        op = op_stack.pop()\n",
    "        b = num_stack.pop()\n",
    "        a = num_stack.pop()\n",
    "        num_stack.append(compute(op, a, b))\n",
    "\n",
    "    return num_stack[0]\n",
    "\n",
    "print(calculate(\"3+5*8-6\"))\n",
    "print(calculate(\"34+13*9+44-12/3\")) \n",
    "# your algorithm time complexity is: O(n)"
   ]
  },
  {
   "cell_type": "markdown",
   "metadata": {},
   "source": [
    "## 问题 4:  \n",
    "\n",
    "> 星球碰撞问题：现有n个星球，在同一条直线上运行，如数组A所示，元素的绝对值表示星球的质量，负数表示星球自右向左运动，正数表示星球自左向右运动，当两个星球相撞的时候，质量小的会消失，大的保持不变，**质量相同的两个星球碰撞后自右向左运动的星球消失，自左向右的星球保持不变**，假设所有星球的速度大小相同。\n",
    ">\n",
    "> $ A=[23,-8, 9, -3, -7, 9, -23, 22] $\n",
    "\n",
    "请设计一个算法模拟星球的运行情况，输出最终的星球存续情况（输出一个数组），分析算法设计思路，计算时间复杂度，并基于python编程实现。\n",
    "\n",
    "e.g.\n",
    "---\n",
    "1.  输入： A=[-3,-6,2,8, 5,-8,9,-2,1]， 输出：[-3, -6, 2, 8, 9, 1]\n",
    "\n",
    "2. 输入：A=[23,-8, 9, -3, -7, 9, -23, 22], 输出：[23, 22]\n",
    "\n"
   ]
  },
  {
   "cell_type": "markdown",
   "metadata": {},
   "source": [
    "idea:此问题可用栈来解决，对与当前数据，若为正则直接入栈，若为负则比较栈顶元素绝对值，负数绝对值大于栈顶的绝对值时，则将栈顶替换为此负数。每颗星球入栈出栈仅需要遍历一次，故时间复杂度为$O(n)$"
   ]
  },
  {
   "cell_type": "code",
   "execution_count": 23,
   "metadata": {},
   "outputs": [
    {
     "name": "stdout",
     "output_type": "stream",
     "text": [
      "[-3, -6, 2, 8, 9, 1]\n",
      "[23, 22]\n"
     ]
    }
   ],
   "source": [
    "def star(arr):\n",
    "    stack = []\n",
    "    for a in arr:\n",
    "        while stack and a < 0 and stack[-1] > 0:\n",
    "            if abs(a) > stack[-1]:\n",
    "                stack.pop()  \n",
    "                continue      \n",
    "            else:\n",
    "                break        \n",
    "        else:\n",
    "            stack.append(a)\n",
    "    return stack\n",
    "\n",
    "\n",
    "print(star([-3, -6, 2, 8, 5, -8, 9, -2, 1])) \n",
    "print(star([23, -8, 9, -3, -7, 9, -23, 22]))  "
   ]
  },
  {
   "cell_type": "markdown",
   "metadata": {},
   "source": [
    "## 问题 5 \n",
    "\n",
    "> 给定一个无序数组nums=[9,-3,-10,0,9,7,33]，请建立一个二叉搜索树存储数组中的所有元素，之后删除二叉树中的元素“0”，再使用中序遍历输出二叉搜索树中的所有元素。\n",
    "\n",
    "使用python编程完成上述任务，并计算时间复杂度\n"
   ]
  },
  {
   "cell_type": "markdown",
   "metadata": {},
   "source": [
    "idea:建立二叉搜索树，首先设计二叉搜素树的节点（值，左孩子，右孩子），首先建立二叉搜索树，先判断根节点是否为空，若为空则将值赋予根节点，若不为空则判断与根节点值的大小关系，小插左边，大插右边；输出指定值的节点，即与根节点的值进行比较，小往左走，大往右走，而后找到指定值，删除指定值节点，将后续右子树最小节点替代被删除节点。其时间复杂度分为二叉搜索树建立，每个节点需要$logn$，故建立需$O(nlogn)$，其删除指定值仅需要$O(logn)$，中序遍历为$O(n)$。"
   ]
  },
  {
   "cell_type": "code",
   "execution_count": 37,
   "metadata": {},
   "outputs": [
    {
     "name": "stdout",
     "output_type": "stream",
     "text": [
      "[-10, -3, 0, 7, 9, 9, 33]\n",
      "[-10, -3, 7, 9, 9, 33]\n"
     ]
    }
   ],
   "source": [
    "# add your code here\n",
    "class Node:\n",
    "    def __init__(self, val=None):\n",
    "        self.val = val\n",
    "        self.left = None\n",
    "        self.right = None\n",
    "\n",
    "def insert(root, val):\n",
    "    if not root:\n",
    "        return TreeNode(val)\n",
    "    if val < root.val:\n",
    "        root.left = insert(root.left, val)\n",
    "    else:\n",
    "        root.right = insert(root.right, val)\n",
    "    return root\n",
    "\n",
    "def delete(root, key):\n",
    "    if not root:\n",
    "        return None\n",
    "    if key < root.val:\n",
    "        root.left = delete(root.left, key)\n",
    "    elif key > root.val:\n",
    "        root.right = delete(root.right, key)\n",
    "    else:\n",
    "        if not root.left:\n",
    "            return root.right\n",
    "        elif not root.right:\n",
    "            return root.left\n",
    "            \n",
    "        right_min_node = get_min(root.right)\n",
    "        root.val = right_min_node.val\n",
    "        root.right = delete(root.right, right_min_node.val)\n",
    "    return root\n",
    "\n",
    "def get_min(node):\n",
    "    while node.left:\n",
    "        node = node.left\n",
    "    return node\n",
    "\n",
    "def mid(root):\n",
    "    if not root:\n",
    "        return []\n",
    "    res = mid(root.left) + [root.val] + mid(root.right)\n",
    "    return res\n",
    "\n",
    "\n",
    "\n",
    "root = None\n",
    "nums = [9,-3,-10,0,9,7,33]\n",
    "for num in nums:\n",
    "        root = insert(root, num)\n",
    "print(mid(root))\n",
    "root = delete_node(root, 0)\n",
    "print(mid(root))\n",
    "\n",
    "\n",
    "# your algorithm time complexity is:insert:O(nlogn);delete:O(logn);中序遍历:O(n)"
   ]
  },
  {
   "cell_type": "markdown",
   "metadata": {},
   "source": [
    "## 问题 6  \n",
    "\n",
    "> 给定一个包含大写字母和小写字母的字符串 s ，返回 字符串包含的 **最长的回文子串的长度** 。请注意 区分大小写 。比如 \"Aa\" 不能当做一个回文字符串。\n",
    ">\n",
    "\n",
    "请设计一个算法解决上述问题，只需要输出最长回文子串的长度，分析算法设计思路，计算时间复杂度，并基于python编程实现\n",
    "\n",
    "e.g. 输入： s=\"adccaccd\"，  输出：7。 最长回文子串为：\"dccaccd\", 长度为7\n"
   ]
  },
  {
   "cell_type": "markdown",
   "metadata": {},
   "source": [
    "idea：利用两个嵌套循环，找出所有子串$O(n^2)$，判断子串是否是回文$O(n)$,故最终时间复杂度为$O(n^3)$"
   ]
  },
  {
   "cell_type": "code",
   "execution_count": 77,
   "metadata": {},
   "outputs": [
    {
     "name": "stdout",
     "output_type": "stream",
     "text": [
      "7\n"
     ]
    }
   ],
   "source": [
    "def longest(s) -> int:\n",
    "    n = len(s)\n",
    "    max_len = 0\n",
    "\n",
    "    def is_palindrome(substr):\n",
    "        return substr == substr[::-1]\n",
    "\n",
    "    for i in range(n):\n",
    "        for j in range(i, n):\n",
    "            if is_palindrome(s[i:j+1]):\n",
    "                max_len = max(max_len, j - i + 1)\n",
    "\n",
    "    return max_len\n",
    "s=\"adccaccd\"\n",
    "print(longest(s))"
   ]
  },
  {
   "cell_type": "markdown",
   "metadata": {},
   "source": [
    "## 问题 7 \n",
    "\n",
    "> 沿一条长河流分散着n座房子。你可以把这条河想象成一条轴，房子是由它们在这条轴上的坐标按顺序排列的。你的公司想在河边的特定地点设置手机基站，这样每户人家都在距离基站4公里的范围内。输入可以看作为一个升序数组，数组元素的取值为大于等于0的正整数，你需要输出最小基站的数目，基站的位置。\n",
    "\n",
    "1. 给出一个时间复杂度为$O(n$) 的算法，使所使用的基站数量最小化，分析算法设计思路，使用python编程实现\n",
    "2. 证明1.中算法产生了最优解决方案。\n",
    "\n",
    "e.g. \n",
    "\n",
    "输入： [1, 5, 12, 33, 34,35]  输出：基站数目为3， 基站位置为[1，12，33]\n",
    "\n"
   ]
  },
  {
   "cell_type": "markdown",
   "metadata": {},
   "source": [
    "idea：贪心算法，将基站放在当前未覆盖的第一个房子，然后跳过其覆盖范围"
   ]
  },
  {
   "cell_type": "code",
   "execution_count": 50,
   "metadata": {},
   "outputs": [
    {
     "name": "stdout",
     "output_type": "stream",
     "text": [
      "基站数目为3，基站位置为[1, 12, 33]\n"
     ]
    }
   ],
   "source": [
    "# add your code here\n",
    "\n",
    "def min_stations(houses):\n",
    "    if not houses:\n",
    "        return 0, []\n",
    "    \n",
    "    base_stations = []\n",
    "    n = len(houses)\n",
    "    i = 0\n",
    "    \n",
    "    while i < n:\n",
    "        pos = houses[i]\n",
    "        base_stations.append(pos)\n",
    "        cover_range = pos + 4\n",
    "        while i < n and houses[i] <= cover_range:\n",
    "            i += 1\n",
    "    \n",
    "    return len(base_stations), base_stations\n",
    "\n",
    "\n",
    "houses = [1, 5, 12, 33, 34, 35]\n",
    "count, positions = min_base_stations(houses)\n",
    "print(f\"基站数目为{count}，基站位置为{positions}\") \n",
    "\n",
    "# your algorithm time complexity is: O(n)"
   ]
  },
  {
   "cell_type": "markdown",
   "metadata": {},
   "source": [
    "## 问题 8  \n",
    "\n",
    "> 给定由n个正整数组成的一个集合$S = \\{a_1, a_2，···，a_n\\}$和一个正整数W，设计一个算法确定是否存在S的一个子集 $K \\subseteq S$, 使K中所有数之和为 $W$, 如果存在返回“True”，否则返回“False”\n",
    "\n",
    "请设计一个时间复杂度为$O(nW)$动态规划算法，解决上述问题，分析算法的设计思路，并且基于python编程实现（不需要输出子集）。\n",
    "\n",
    "e.g. \n",
    "\n",
    "输入：S = {1,4,7,3,5}， W = 11，输出：True。   因为K可以是{4,7}。\n",
    "\n"
   ]
  },
  {
   "cell_type": "markdown",
   "metadata": {},
   "source": [
    "idea：设置一个二维向量，记录目标值w在当前下标前是否得到和为w的结果，如果前i个值能得到w或者w-S[i+1]，则i+1除也能得到w，"
   ]
  },
  {
   "cell_type": "code",
   "execution_count": 53,
   "metadata": {},
   "outputs": [
    {
     "name": "stdout",
     "output_type": "stream",
     "text": [
      "True\n"
     ]
    }
   ],
   "source": [
    "# add your code here\n",
    "def subset_sum(S, W):\n",
    "    n = len(S)\n",
    "    dp = [[False] * (W + 1) for _ in range(n + 1)]\n",
    "    \n",
    "    for i in range(n + 1):\n",
    "        dp[i][0] = True\n",
    "\n",
    "    for i in range(1, n + 1):\n",
    "        for w in range(W + 1):\n",
    "            if w >= S[i - 1]:\n",
    "                dp[i][w] = dp[i - 1][w] or dp[i - 1][w - S[i - 1]]\n",
    "            else:\n",
    "                dp[i][w] = dp[i - 1][w]\n",
    "\n",
    "    return dp[n][W]\n",
    "\n",
    "S = [1, 4, 7, 3, 5]\n",
    "W = 11\n",
    "print(subset_sum(S, W))  \n",
    "\n",
    "# your algorithm time complexity is: O(nW)"
   ]
  },
  {
   "cell_type": "markdown",
   "metadata": {},
   "source": [
    "\n",
    "\n",
    "## 问题 9 \n",
    "\n",
    "> 给定一个n个物品的集合。物体的重量为$w_1, w_2，…、w_n$，物品的价值分别是$v_1、v_2、…v_n$。给你**两个**重量为 $c$ 的背包。如果你带了一个东西，它可以放在一个背包里，也可以放在另一个背包里，但不能同时放在两个背包里。所有权重和价值都是正整数。\n",
    "\n",
    "1. 设计一个时间复杂度为 $O(nc^2)$ 的动态规划算法，确定可以放入两个背包的物体的最大价值。分析算法设计思路，并基于python编程实现\n",
    "2. \\* 修改1中的算法，输出每个背包的内容（物品对应下标）。\n",
    "\n",
    "e.g.: \n",
    "\n",
    "输入 V=[1,3,2,5,8,7], W=[1,3,2,5,8,7], c=7, 输出：最大价值=14，背包装的物品为：[6] [4，3] （同一个背包中物品装入顺序对结果无影响）  \n"
   ]
  },
  {
   "cell_type": "markdown",
   "metadata": {},
   "source": [
    "idea：1、设计一个三维动态规划状态dp[][][],分别表示当前物品数，背包1和2的剩余容量，其值对应最大价值。状态变化有3，不放任一背包；在背包1、2容量充足时分别放入，更新其状态值\n",
    "2、在1的基础上加入一个三维向量记录当前状态下物品属于哪一个背包，最后输出"
   ]
  },
  {
   "cell_type": "code",
   "execution_count": 63,
   "metadata": {},
   "outputs": [
    {
     "name": "stdout",
     "output_type": "stream",
     "text": [
      "(14, [6], [3, 4])\n"
     ]
    }
   ],
   "source": [
    "def max_val(W, V, c):\n",
    "    n = len(W)\n",
    "    dp = [[[0] * (c + 1) for _ in range(c + 1)] for _ in range(n + 1)]\n",
    "    path = [[[0] * (c + 1) for _ in range(c + 1)] for _ in range(n + 1)]\n",
    "\n",
    "    for i in range(1, n + 1):\n",
    "        wi, vi = W[i - 1], V[i - 1]\n",
    "        for j in range(c + 1):\n",
    "            for k in range(c + 1):\n",
    "                dp[i][j][k] = dp[i - 1][j][k]\n",
    "                path[i][j][k] = 0\n",
    "                if j >= wi and dp[i - 1][j - wi][k] + vi > dp[i][j][k]:\n",
    "                    dp[i][j][k] = dp[i - 1][j - wi][k] + vi\n",
    "                    path[i][j][k] = 1\n",
    "                if k >= wi and dp[i - 1][j][k - wi] + vi > dp[i][j][k]:\n",
    "                    dp[i][j][k] = dp[i - 1][j][k - wi] + vi\n",
    "                    path[i][j][k] = 2\n",
    "\n",
    "    b1, b2 = [], []\n",
    "    i, j, k = n, c, c\n",
    "    while i > 0:\n",
    "        p = path[i][j][k]\n",
    "        if p == 1:\n",
    "            b1.append(i)\n",
    "            j -= W[i - 1]\n",
    "        elif p == 2:\n",
    "            b2.append(i)\n",
    "            k -= W[i - 1]\n",
    "        i -= 1\n",
    "\n",
    "    return dp[n][c][c], b1[::-1], b2[::-1]\n",
    "    \n",
    "V=[1,3,2,5,8,7]\n",
    "W=[1,3,2,5,8,7]\n",
    "c=7\n",
    "print(max_val(V,W,c))\n"
   ]
  },
  {
   "cell_type": "markdown",
   "metadata": {},
   "source": [
    "## 问题 10 \n",
    "\n",
    "> 给定两个字符串 $x[1..n]$ 和 $y[1..m]$，我们想通过以下操作将 $x$ 变换为 $y$ :\n",
    ">\n",
    "> **插入**：在 $x$ 中插入一个字符(在任何位置)；**删除**：从 $x$ 中删除一个字符(在任何位置)； **替换**：用另一个字符替换 $x$ 中的一个字符。\n",
    ">\n",
    "> 例如: $x = abcd$, $y = bcfe$，\n",
    ">\n",
    "> - 将 $x$ 转换为 $y$ 的一种可能方法是：1. 删除 $x$ 开头的 $a$, $x$变成 $bcd$； 2. 将 $x$ 中的字符 $d$ 替换为字符 $f$。$x$ 变成 $bcf$； 3. 在 $x$ 的末尾插入字符 $e$。$x$ 变成 $bcfe$。\n",
    ">\n",
    "> - 另一种可能的方法：1. 删除 $x$ 开头的 $a$,  $x$ 变成 $bcd$； 2. 在 $x$ 中字符 $d$ 之前插入字符 $f$。$x$ 变成 $bcfd$。3. 将 $x$ 中的字符 $d$ 替换为字符 $e$。$x$ 变成 $bcfe$。\n",
    "\n",
    "设计一个时间复杂度为 $O(mn)$ 的算法，返回将 $x$ 转换为 $y$ 所需的最少操作次数。分析算法设计思路，并基于python编程实现。\n"
   ]
  },
  {
   "cell_type": "markdown",
   "metadata": {},
   "source": [
    "idea：定义一个最少操作次数dp[i][j],对于状态变换分为两种情况，x[i]=y[j]则dp[i][j]相对于dp[i-1][j-1]次数不变,对于其他的三种情况，dp[i][j]则在插入dp[i][j-1]+1、删除dp[i-1][j]+1、替换dp[i-1][j-1]+1三种操作中取最小值"
   ]
  },
  {
   "cell_type": "code",
   "execution_count": 73,
   "metadata": {},
   "outputs": [
    {
     "name": "stdout",
     "output_type": "stream",
     "text": [
      "3\n"
     ]
    }
   ],
   "source": [
    "# add your code here\n",
    "def change(x, y):\n",
    "    n, m = len(x), len(y)\n",
    "    dp = [[0] * (m + 1) for _ in range(n + 1)]\n",
    "\n",
    "    for i in range(n + 1):\n",
    "        dp[i][0] = i\n",
    "    for j in range(m + 1):\n",
    "        dp[0][j] = j\n",
    "\n",
    "    for i in range(1, n + 1):\n",
    "        for j in range(1, m + 1):\n",
    "            if x[i - 1] == y[j - 1]:\n",
    "                dp[i][j] = dp[i - 1][j - 1]\n",
    "            else:\n",
    "                dp[i][j] = min(\n",
    "                    dp[i - 1][j] + 1,    \n",
    "                    dp[i][j - 1] + 1,     \n",
    "                    dp[i - 1][j - 1] + 1  \n",
    "                )\n",
    "\n",
    "    return dp[n][m]\n",
    "x = 'abcd'\n",
    "y = 'bcfe'\n",
    "print(change(x,y))\n",
    "# your algorithm time complexity is: O(mn)"
   ]
  },
  {
   "cell_type": "code",
   "execution_count": null,
   "metadata": {},
   "outputs": [],
   "source": []
  }
 ],
 "metadata": {
  "kernelspec": {
   "display_name": "Python 3 (ipykernel)",
   "language": "python",
   "name": "python3"
  },
  "language_info": {
   "codemirror_mode": {
    "name": "ipython",
    "version": 3
   },
   "file_extension": ".py",
   "mimetype": "text/x-python",
   "name": "python",
   "nbconvert_exporter": "python",
   "pygments_lexer": "ipython3",
   "version": "3.12.4"
  }
 },
 "nbformat": 4,
 "nbformat_minor": 4
}
