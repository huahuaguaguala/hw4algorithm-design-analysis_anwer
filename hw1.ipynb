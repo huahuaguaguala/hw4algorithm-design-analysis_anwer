{
 "cells": [
  {
   "cell_type": "markdown",
   "metadata": {},
   "source": [
    "## algorithm design and anlysis-2025 spring  homework 1 \n",
    "**Deadline**：2025.5.14\n",
    "\n",
    "**name**:蒋坤\n",
    "\n",
    "\n",
    "note：\n",
    "---\n",
    "1. 带有\\*的题目，申请免上课的同学，必须完成，其他同学选作；\n",
    "2. 请独立完成，如求助了他人或者大模型，请著明，并且不可省略算法分析部分；\n",
    "4. 如若作答有雷同，全部取消成绩；\n",
    "3. 需要书面作答的题目，可以通过引用图片的形式添加，但是注意上传项目时包含所引用的图片的源文件；\n",
    "4. $log_n$ 默认表示$log_2{n}$;"
   ]
  },
  {
   "cell_type": "markdown",
   "metadata": {},
   "source": [
    "## 问题 1\n",
    "\n",
    "对于下面的每一对表达式(A, B), A是否能表示为B的 $\\Theta, \\Omega ,O$形式. 请注意, 这些关系中的零个、一个或多个可能成立。列出所有正确的。经常发生一些学生会,把指示写错, 所以请把关系写完整, 例如: $A = O(B),  A =\\Theta(B)$, 或$A = \\Omega(B)$。\n",
    "\n",
    "1. $A=n^2-100n, B=n^2$\n",
    "2. $A=logn, B=log_{1.2}n$\n",
    "3. $A=3^{2n}, B=2^{4n}$\n",
    "4. $A=2^{logn}, B=n$\n",
    "5. $A=\\log{\\log}{n},B=10^{10^{100}}$"
   ]
  },
  {
   "cell_type": "markdown",
   "metadata": {},
   "source": [
    "can refer a handwritten picture, pleas upload the picture in /fig/xxx.png\n",
    "answer:\n"
   ]
  },
  {
   "cell_type": "markdown",
   "metadata": {},
   "source": [
    "Answer:\n",
    "1. $A = O(B)$    $A =\\Theta(B)$     $A = \\Omega(B)$\n",
    "\n",
    "2. $A = O(B)$    $A =\\Theta(B)$     $A = \\Omega(B)$\n",
    "\n",
    "3. $A = O(B)$\n",
    "\n",
    "4. $A = O(B)$    $A =\\Theta(B)$     $A = \\Omega(B)$\n",
    "\n",
    "5. $A =\\Omega(B)$\n",
    "<img src= \"./fig/1-1.jpg \">"
   ]
  },
  {
   "cell_type": "markdown",
   "metadata": {},
   "source": [
    "## 问题 2：\n",
    "\n",
    "假设有函数 $f$ 和 $g$ 使得 $f(n)$ = $O(g(n))$ 对于下面的每一个陈述, 请判断对错, 如果正确请给出证明, 否则请给出一个反例。\n",
    "\n",
    "1. $\\log{f(n)}$ = $O(\\log(1+g(n)))$\n",
    "2. $3^{f(n)}=O(3^{g(n)})$\n",
    "3. $(f(n))^2=O((g(n))^2)$ "
   ]
  },
  {
   "cell_type": "markdown",
   "metadata": {},
   "source": [
    "you can refer a handwritten picture, pleas upload the picture in /fig/xxx.png\n",
    "answer:"
   ]
  },
  {
   "cell_type": "markdown",
   "metadata": {},
   "source": [
    "Anwer:\n",
    "1. False;\n",
    "    \n",
    "2. Flase;\n",
    "\n",
    "3. Ture;\n",
    "   <img src= \"./fig/1-2.jpg \">"
   ]
  },
  {
   "cell_type": "markdown",
   "metadata": {},
   "source": [
    "## 问题 3\n",
    "\n",
    "根据下列递归公式, 计算下列 $T(n)$ 对应的的渐近上界。要求所求的边界尽可能的紧（tight）, 请写明步骤。\n",
    "\n",
    "1. $T(1)=1; T(n)=T(n/4)+1$ for $n>1$\n",
    "2. $T(1)=1;T(n)=3T(n/3)+n^2$ for $n>1$\n",
    "3. $T(1)=1;T(n)=T(2n/3)+1$ for $n>1$\n",
    "4. $T(1)=1;T(n)=5T(n/4)+n$ for $n>1$\n",
    "5. $T(n)=1 \\ for\\ n \\le 2 ; T(n)=T(\\sqrt{n})+1 \\ for \\ n>2$"
   ]
  },
  {
   "cell_type": "markdown",
   "metadata": {},
   "source": [
    "can refer a handwritten picture, pleas upload the picture in /fig/xxx.png\n",
    "answer:<img src= \"./fig/1-3.jpg \">"
   ]
  },
  {
   "cell_type": "markdown",
   "metadata": {},
   "source": [
    "## 问题 4：\n",
    "\n",
    "给定一个包含n个元素的数组 `profits` , 它的第 `i` 个元素 `profits[i]` 表示一支股票第 `i` 天的**收益**（正数表示涨, 负数表示跌）。你只能选择 **某一天** 买入这只股票, 并选择在 **未来的某一个不同的日子** 卖出该股票。\n",
    "\n",
    "1. 设计一个算法来计算你所能获取的最大利润和对应买入和卖出的日期。请分析算法方案, 计算其时间复杂度, 并且使用python编程实现该算法。\n",
    "\n",
    "2. \\* 设计一个时间复杂度为 $O(n)$的算法实现该算法\n",
    "\n",
    "e.g. :\n",
    "---\n",
    "profits=[3,2,1,-7,5,2,-1,3,-1], 第5天买入, 第8天卖出, 收益最大：9\n",
    "\n"
   ]
  },
  {
   "cell_type": "markdown",
   "metadata": {},
   "source": [
    "idea:\n",
    "当前利润(current_p),最大利润(max_p),买入天(buy_day),卖出天(sell_day);遍历:以此将每一天作为买入天，依次计算后面每一天卖出时的利润,当当前利润大于最大利润时，更新买入日和卖出日;此方法为需两个嵌套循环，故时间复杂度为 $O(N^2)$ "
   ]
  },
  {
   "cell_type": "code",
   "execution_count": 16,
   "metadata": {},
   "outputs": [
    {
     "name": "stdout",
     "output_type": "stream",
     "text": [
      "第5天买入, 第8天卖出, 收益最大：9\n"
     ]
    }
   ],
   "source": [
    "def max_profit(profits):\n",
    "    n = len(profits)\n",
    "    \n",
    "    if n == 0:\n",
    "        return -1, -1, 0  \n",
    "        \n",
    "    max_p = float('-inf')\n",
    "    buy_day = -1\n",
    "    sell_day = -1\n",
    "    \n",
    "    for i in range(n):\n",
    "        current_p = 0\n",
    "        for j in range(i, n):\n",
    "            current_p += profits[j]\n",
    "            if current_p > max_p:\n",
    "                max_p = current_p\n",
    "                buy_day = i + 1  \n",
    "                sell_day = j + 1\n",
    "    \n",
    "    return buy_day, sell_day, max_p if max_p != float('-inf') else 0\n",
    "\n",
    "profits = [3, 2, 1, -7, 5, 2, -1, 3, -1]\n",
    "res = max_profit(profits)\n",
    "print(f'第{res[0]}天买入, 第{res[1]}天卖出, 收益最大：{res[2]}')"
   ]
  },
  {
   "cell_type": "markdown",
   "metadata": {},
   "source": [
    "idea:\n",
    "设计一个动态子数组，记录当下利润和最大利润及其买入日卖出日，如果当前的利润为负，即证明前几天对于利润的最大化无作用，即更新买入日，在后续继续寻找是否存在大于当前最大利润的情况，因仅需遍历一遍，故时间复杂度为$O(N^2)$ "
   ]
  },
  {
   "cell_type": "code",
   "execution_count": 31,
   "metadata": {},
   "outputs": [
    {
     "name": "stdout",
     "output_type": "stream",
     "text": [
      "第5天买入, 第8天卖出, 收益最大：9\n"
     ]
    }
   ],
   "source": [
    "def max_profit(profits):\n",
    "    n = len(profits)\n",
    "    \n",
    "    if n == 0:\n",
    "        return -1, -1, 0  \n",
    "    \n",
    "    max_p = float('-inf')\n",
    "    buy_day = 1\n",
    "    sell_day = 1\n",
    "    current_p = profits[0]\n",
    "    current_buy_day = 1\n",
    "    \n",
    "    for i in range(1,n):\n",
    "        if current_p < 0:\n",
    "            current_p = profits[i]\n",
    "            current_buy_day = i + 1\n",
    "        else:\n",
    "            current_p = current_p + profits[i]\n",
    "            \n",
    "        if current_p > max_p:\n",
    "            max_p = current_p\n",
    "            buy_day = current_buy_day\n",
    "            sell_day = i + 1\n",
    "    \n",
    "    return buy_day, sell_day, max_p if max_p != float('-inf') else 0\n",
    "\n",
    "profits = [3, 2, 1, -7, 5, 2, -1, 3, -1]\n",
    "res = max_profit(profits)\n",
    "print(f'第{res[0]}天买入, 第{res[1]}天卖出, 收益最大：{res[2]}')"
   ]
  },
  {
   "cell_type": "markdown",
   "metadata": {},
   "source": [
    "## 问题 5：\n",
    "\n",
    "观察下方的分治算法（divide-and-conquer algorithm）的伪代码, 回答下面问题\n",
    "\n",
    "```latex\n",
    "DoSomething(A,p,r)\n",
    "-----\n",
    "n := r-p+1\n",
    "if n=2 and A[p]>A[r] then\n",
    "    swap A[p] and A[r]\n",
    "else if n >= 3 then\n",
    "    m = ceil(2n/3)\n",
    "    DoSomething(A,p,p+m-1)\n",
    "    DoSomething(A,r-m+1,r)\n",
    "    DoSomething(A,p,p+m-1)  \n",
    "    \n",
    "---\n",
    "first call: DoSomething(A,1,n)\n",
    "```\n",
    "\n",
    "note：$ceil(2n/3)=\\left\\lceil {2n/3} \\right\\rceil$；$:=$ 表示赋值, 等价于 $\\to$；A是一个包含n的整数元素的数组, \n",
    "\n",
    "1. 写出该算法时间复杂度的递归公式, 并求解其对应的渐进表示\n",
    "2. 描述一下该算法的功能, 并判断是否是最高效的解决方案\n",
    "3. 使用python编程实现上述算法或其对应的更高效版本的算法\n"
   ]
  },
  {
   "cell_type": "markdown",
   "metadata": {},
   "source": [
    "idea：将要处理的数组分为前2/3和后2/3部分，将问题不断细分，最后转为2个元素的大小比较，实现分治排序，该方法并不为最高效的方法，因为有处理操作重叠的地方，导致多次处理，二分分治归并排序为其更高效的解决方法"
   ]
  },
  {
   "cell_type": "markdown",
   "metadata": {},
   "source": [
    "answer:\n",
    "(1):\n",
    "(2):\n",
    "(3):\n"
   ]
  },
  {
   "cell_type": "code",
   "execution_count": 43,
   "metadata": {},
   "outputs": [
    {
     "name": "stdout",
     "output_type": "stream",
     "text": [
      "Final result: [1, 2, 5, 5, 6, 9]\n"
     ]
    }
   ],
   "source": [
    "def swap(A, i, j):\n",
    "    A[i], A[j] = A[j], A[i]\n",
    "\n",
    "def do_something(A, p, r):\n",
    "    if p >= r:\n",
    "        return \n",
    "    \n",
    "    if r - p == 1:  \n",
    "        if A[p] > A[r]:\n",
    "            swap(A, p, r)\n",
    "        return\n",
    "    \n",
    "    mid = (p + r) // 2\n",
    "    do_something(A, p, mid)      \n",
    "    do_something(A, mid + 1, r) \n",
    "    \n",
    "    i, j = p, mid + 1\n",
    "    merged = []\n",
    "    while i <= mid and j <= r:\n",
    "        if A[i] <= A[j]:\n",
    "            merged.append(A[i])\n",
    "            i += 1\n",
    "        else:\n",
    "            merged.append(A[j])\n",
    "            j += 1\n",
    "    merged.extend(A[i:mid + 1])\n",
    "    merged.extend(A[j:r + 1])\n",
    "    A[p:r + 1] = merged"
   ]
  },
  {
   "cell_type": "markdown",
   "metadata": {},
   "source": [
    "## 问题 6：\n",
    "\n",
    "给定一个大小为 `n` 的数组 `nums` , 返回其中的多数元素。多数元素是指在数组中出现次数 **大于** `⌊ n/2 ⌋` 的元素。\n",
    "\n",
    "你可以假设数组是非空的, 并且给定的数组总是存在多数元素。\n",
    "\n",
    "1. 设计一个算法找到给定数组的多数元素, 分析算法设计思路, 计算算法时间复杂度, 使用python编程实现\n",
    "2. \\* 设计时间复杂度为 O(n)、空间复杂度为 O(1) 的算法解决此问题, 分析算法设计思路, 使用python编程实现\n",
    "\n",
    "e.g.:\n",
    "---\n",
    "1. nums=[3,2,3], 返回3\n",
    "2. nums=[2,2,1,1,1,2,2], 返回2\n"
   ]
  },
  {
   "cell_type": "markdown",
   "metadata": {},
   "source": [
    "idea：哈希算法，对于给定数组的每个元素，在第一次遍历操作中，每次遍历将其对应的哈希值加1，第二次遍历仅执行查询，即检查是否该数的哈希值大于 `⌊ n/2 ⌋`"
   ]
  },
  {
   "cell_type": "code",
   "execution_count": 15,
   "metadata": {},
   "outputs": [
    {
     "name": "stdout",
     "output_type": "stream",
     "text": [
      "3\n",
      "2\n"
     ]
    }
   ],
   "source": [
    "# add your code here\n",
    "def majority_element(nums):\n",
    "    count = {}\n",
    "    for num in nums:\n",
    "        if num in count:\n",
    "            count[num] += 1\n",
    "        else:\n",
    "            count[num] = 1\n",
    "    for num in count:\n",
    "        if count[num] > len(nums) // 2:\n",
    "            return num\n",
    "    return -1\n",
    "\n",
    "nums1 = [3,2,3]\n",
    "nums2 = [2,2,1,1,1,2,2]\n",
    "\n",
    "print(majority_element(nums1))\n",
    "print(majority_element(nums2))\n",
    "\n",
    "# your algorithm time complexity is :采用的哈希，仅需要遍历两次，故其时间复杂度为O(n)"
   ]
  },
  {
   "cell_type": "markdown",
   "metadata": {},
   "source": [
    "idea for 2\\*：Boyer-Moore算法，想法来源于网络\n",
    "对于多数元素，设置当前众数候选值key和count值，若为key,则count+1,反之count-1,当count=-1，则更新当前key,以此遍历一遍则得到最终众数"
   ]
  },
  {
   "cell_type": "code",
   "execution_count": 13,
   "metadata": {},
   "outputs": [
    {
     "name": "stdout",
     "output_type": "stream",
     "text": [
      "3\n",
      "2\n"
     ]
    }
   ],
   "source": [
    "# algorithm time complexity：O(n), space complexity:O(1)\n",
    "def majority_element(nums):\n",
    "    key = None\n",
    "    count = 0\n",
    "\n",
    "    for num in nums:\n",
    "        if count == 0:\n",
    "            key = num\n",
    "        if num == key:\n",
    "            count += 1\n",
    "        else:\n",
    "            count -= 1\n",
    "    return key\n",
    "\n",
    "nums1 = [3,2,3]\n",
    "nums2 = [2,2,1,1,1,2,2]\n",
    "\n",
    "print(majority_element(nums1))\n",
    "print(majority_element(nums2))\n",
    "# add your code here"
   ]
  },
  {
   "cell_type": "markdown",
   "metadata": {},
   "source": [
    "## 问题 7：\n",
    "\n",
    "给定一个包含不同整数元素的数组 $ A[1..n]$ ,并且满足条件：$A[1]>A[2]$ 并且 $A[n-1]<A[n]$; 规定：如果一个元素比它两边的邻居元素都小, 即：$A[x]<A[x-1], A[x]<A[x+1]$ , 称这个元素A[x]为“局部最小”。通过遍历一次数组, 我们可以很容易在 $O(n)$的时间复杂度下找到一个局部最小值, \n",
    "\n",
    "\n",
    "1. 分析该问题, 设计一个算法在$O(logn)$的时间复杂度下找到一个局部最小(返回数值), 要求：分析算法设计思路, 并且使用python编程实现\n",
    "2. \\* 设计算法找出所有局部最小值, 分析算法设计思路, 并使用python编程实现\n",
    "\n",
    "e.g.:\n",
    "---\n",
    "A=[9, 3, 7, 2, 1, 4, 5 ] 时,  局部最小元素为 3, 1\n"
   ]
  },
  {
   "cell_type": "markdown",
   "metadata": {},
   "source": [
    "idea：时间复杂度为$O(logn)$,可以采用二分查找法，题目条件得出必存在至少一个局部最小值，且肯定在边界满足下降-上升趋势条件的一半，则在每次二分查找中判断中间值是否满足条件，若不则在满足边界条件的一边继续寻找。因每次将问题二分，故时间复杂度为$O(logn)$"
   ]
  },
  {
   "cell_type": "code",
   "execution_count": 22,
   "metadata": {},
   "outputs": [
    {
     "name": "stdout",
     "output_type": "stream",
     "text": [
      "1\n"
     ]
    }
   ],
   "source": [
    "# add your code here\n",
    "def find_one_local_min(nums):\n",
    "    left, right = 0, len(nums) - 1\n",
    "    \n",
    "    while left <= right:\n",
    "        mid = (left + right) // 2\n",
    "        \n",
    "        if (mid == 0 or nums[mid] < nums[mid - 1]) and (mid == len(nums) - 1 or nums[mid] < nums[mid + 1]):\n",
    "            return nums[mid]\n",
    "        \n",
    "        if mid > 0 and nums[mid - 1] < nums[mid]:\n",
    "            right = mid - 1\n",
    "        else:\n",
    "            left = mid + 1\n",
    "    \n",
    "    return None  \n",
    "\n",
    "\n",
    "nums = [9, 3, 7, 2, 1, 4, 5]\n",
    "print(find_one_local_min(nums)) \n",
    "    \n",
    "# your algorithm time complexity is :O(log n)"
   ]
  },
  {
   "cell_type": "markdown",
   "metadata": {},
   "source": [
    "idea:采用遍历方法，对于每个元素，将其与左右两个元素进行对比，时间复杂度为$O(n)$"
   ]
  },
  {
   "cell_type": "code",
   "execution_count": 27,
   "metadata": {},
   "outputs": [
    {
     "name": "stdout",
     "output_type": "stream",
     "text": [
      "[3, 1]\n"
     ]
    }
   ],
   "source": [
    "# add your code here\n",
    "def find_all_local_min(nums):\n",
    "    if len(nums) < 3:\n",
    "        return []\n",
    "\n",
    "    res = []\n",
    "    for i in range(1,len(nums) - 1):\n",
    "        if nums[i] < nums[i - 1] and nums[i] < nums[i + 1]:\n",
    "            res.append(nums[i])\n",
    "    return res\n",
    "\n",
    "nums = [9, 3, 7, 2, 1, 4, 5]\n",
    "print(find_all_local_min(nums)) \n",
    "\n",
    "# your algorithm time complexity is : 仅遍历一遍，每个元素比较两次，故时间复杂度为O(n)"
   ]
  },
  {
   "cell_type": "markdown",
   "metadata": {},
   "source": [
    "## 问题 8：\n",
    "\n",
    "给定包含n个不同数字的一组数, 寻找一种基于比较的算法在这组数中找到k个最小的数字, 并按顺序输出它们。\n",
    "\n",
    "1. 将n个数先进行排序, 然后按顺序输出最小的k个数。要求：选择合适的排序算法实现上述操作, 计算算法时间复杂度, 并使用python编程实现。\n",
    "2. 建立一个包含这n个数的堆（heap）, 并且调用 k 次Extract-min 按顺序输出最小的k个数。使用往空堆中不断插入元素的方法建立堆, 分析这种方法建堆的时间复杂度, 并使用python编程实现\n",
    "3. \\* 假设数组中包含的数据总数目超过了计算机的存储能力, 请设计一个算法, 找到这堆数据的前k小的数值, 计算时间复杂度, 并使用python实现该算法, 假设计算机一定能存储k个数据。\n",
    "\n",
    "e.g.：\n",
    "---\n",
    "数组arr=[5,4,3,2,6,1,88,33,22,107] 的前3个最小数据为：1, 2, 3\n"
   ]
  },
  {
   "cell_type": "markdown",
   "metadata": {},
   "source": [
    "idea：\n",
    "1.先使用快排进行非降序排序，进行$logn$次迭代，每次操作复杂度为$n$，查找前$k$个最小值$O(1)$,故时间复杂度为$O(nlogn)$ \n",
    "\n",
    "2.最小堆分为建堆$O(n)$，排序时排$n-1$个，每个需要在二叉树上进行，需$logn$,查找前k个最小值需$logn$故最终时间复杂度为$O(nlogn)$ \n",
    "\n",
    "3.设置一个k大小的堆，在第二问最小堆排序的基础上加入动态思想，即动态读取，仅保留当前最小堆容量数据或者只保留前k个数据，对于每个数据需比较logk次，故最终时间复杂度为$O(nlogk)$"
   ]
  },
  {
   "cell_type": "code",
   "execution_count": 31,
   "metadata": {},
   "outputs": [
    {
     "name": "stdout",
     "output_type": "stream",
     "text": [
      "[1, 2, 3]\n"
     ]
    }
   ],
   "source": [
    "# add your code here\n",
    "def quick_sort(arr, left, right):\n",
    "    if left >= right:\n",
    "        return\n",
    "    \n",
    "    flag = arr[left]\n",
    "    low, high = left, right\n",
    "    \n",
    "    while low < high:\n",
    "        while low < high and arr[high] >= flag:\n",
    "            high -= 1\n",
    "        arr[low] = arr[high]\n",
    "        \n",
    "        while low < high and arr[low] < flag:\n",
    "            low += 1\n",
    "        arr[high] = arr[low]\n",
    "    \n",
    "    arr[low] = flag\n",
    "    \n",
    "    quick_sort(arr, left, low - 1)\n",
    "    quick_sort(arr, low + 1, right)\n",
    "\n",
    "arr=[5,4,3,2,6,1,88,33,22,107]\n",
    "quick_sort(arr,0,len(arr)- 1)\n",
    "print(arr[:3])\n",
    "# your algorithm time complexity is :O(nlogn)"
   ]
  },
  {
   "cell_type": "code",
   "execution_count": 27,
   "metadata": {},
   "outputs": [
    {
     "name": "stdout",
     "output_type": "stream",
     "text": [
      "[1, 2, 3]\n"
     ]
    }
   ],
   "source": [
    "import heapq\n",
    "\n",
    "def extract_k_min_elements(arr, k):\n",
    "    heap = []\n",
    "\n",
    "    def extract_min(heap):\n",
    "        if heap:\n",
    "            return heapq.heappop(heap)\n",
    "    \n",
    "    for num in arr:\n",
    "        heapq.heappush(heap, num)\n",
    "    \n",
    "    result = []\n",
    "    for _ in range(k):\n",
    "        result.append(extract_min(heap))\n",
    "\n",
    "    return result\n",
    "\n",
    "arr = [5, 4, 3, 2, 6, 1, 88, 33, 22, 107]\n",
    "k = 3\n",
    "res = extract_k_min_elements(arr, k)\n",
    "print(res)\n",
    "# your algorithm time complexity is :O(nlogn)\n"
   ]
  },
  {
   "cell_type": "code",
   "execution_count": 29,
   "metadata": {},
   "outputs": [
    {
     "name": "stdout",
     "output_type": "stream",
     "text": [
      "[1, 2, 3]\n"
     ]
    }
   ],
   "source": [
    "import heapq\n",
    "\n",
    "def get_k_smallest(stream, k):\n",
    "    max_heap = []\n",
    "    for num in stream:\n",
    "        if len(max_heap) < k:\n",
    "            heapq.heappush(max_heap, -num)  \n",
    "        else:\n",
    "            if -max_heap[0] > num:\n",
    "                heapq.heappop(max_heap)\n",
    "                heapq.heappush(max_heap, -num)\n",
    "    return sorted([-x for x in max_heap])  \n",
    "\n",
    "\n",
    "arr = [5, 4, 3, 2, 6, 1, 88, 33, 22, 107]\n",
    "print(get_k_smallest(arr, 3))\n",
    "# your algorithm time complexity is :O(nlogk)"
   ]
  },
  {
   "cell_type": "markdown",
   "metadata": {},
   "source": [
    "## 问题 9：\n",
    "\n",
    "**选择问题**:给定一个包含n个未排序值的数组A和一个$k≤n$的整数, 返回A中最小的第k项。\n",
    "\n",
    "在课堂上, 学了一个简单的O(n)随机算法来解决选择问题。事实上还有一种更复杂的最坏情况下时间复杂度为$O(n)$ 的选择算法。假设使用一个黑盒过程来实现这个O(n)选择算法: 给定一个数组A、 $p < r$ 和 k,  $BB(A, p, r, k)$ 可以在$O(r−p+ 1)$时间内找到并报告$A[p..r]$中第k小的项的下标。假设你可以在线性时间内处理Partition过程。\n",
    "\n",
    "1. 请分析如何修改 Quicksork 算法可以使其最差情况下的运行时间为 $O(nlogn)$, 使用伪代码实现, 并分析为何修改后的版本最差情况的运行时间为$O(nlogn)$\n",
    "\n",
    "note: 伪代码中, 你可以直接调用用` BB(A,p,r,k)`这个函数用于表示在最坏情况下时间复杂度为$O(n)$的选择算法；\n",
    "\n",
    "\n",
    "\n",
    "2. 找到一个更好的算法报告数组A中的前k小的项, 使用伪代码表示你的算法, 并分析你算法的时间复杂度。\n",
    "\n",
    "举例：A=[13, 3, 7, 9, 11, 1, 15, 2, 8, 10, 12, 16, 14, 5], 当k=4时, 应该报告1, 2, 3, 4\n",
    "\n",
    "note： 最直观的方法就是先将数组A排序, 然后从左向右报告其前k项, 这样操作的时间复杂度为$O(nlogn)$. 调用用` BB(A,p,r,k)`设计一个算法使其报告无序数组A的前k项, 满足时间复杂度好于$\\Theta(nlogn)$, 并且当$k=\\sqrt{n}$时, 你设计的算法时间复杂度应该为$\\Theta(n)$.\n",
    "\n",
    "\n",
    "\n",
    "3. 给定一个大小为n的数组, 找到一个 时间复杂度为$O(n log k)$ 的算法, 该算法将A中的元素重新排序, 使它们被划分为k个部分, 每个部分的元素小于或等于下一部分的元素。假设n和k都是2的幂。使用伪代码表示你的算法, 并分析时间复杂度。\n",
    "\n",
    "e.g.:\n",
    "---\n",
    "数组：[1,  3,  5,  7,  9,  11,  13,  15,  2,  4,  6,  8,  10,  12,  16,  14], k=4, \n",
    "\n",
    "对应重新排序的数组为：[1,  3,  2,  4]  [7,  6,  5,  8]  [12,  11,  10,  9]  [13,  14,  16,  15]\n",
    "\n",
    "\n"
   ]
  },
  {
   "cell_type": "markdown",
   "metadata": {},
   "source": [
    "idea：1.在快排中，每次基准值选择时采用BB算法找到中值，这样每次将将数组二分，使最坏情况下深度为log2n,每一层里的操作为O(n)，得到最终时间复杂度为$O(nlogn)$\n",
    "\n",
    "2.在第一问的基础上，第一次基准值更换为第k小的值，若前半截数组长度len1大于等于k,则已经找到，若小于k,则在后半数组中找寻前k-len1的数，这样满足题意\n",
    "\n",
    "3.在第二问的基础上,$k=sqrt{n}$时，排前k个最小项的时间复杂度为$\\Theta(n)$，则先将前(n/k)个最小划分出来，接下来划分后续的k-1个"
   ]
  },
  {
   "cell_type": "code",
   "execution_count": 34,
   "metadata": {},
   "outputs": [],
   "source": [
    "# add your pseudo-code here\n",
    "#1\n",
    "def QuickSort(A, p, r, k):\n",
    "    if p == r:\n",
    "        return A[p]\n",
    "    pivot = BB(A, p, r, (r - p + 1) // 2) #重点\n",
    "    q = Partition(A, p, r, pivot) #按pivot划分为均等两个子数组\n",
    "    i = q - p + 1\n",
    "    if k == i:\n",
    "        return A[q]\n",
    "    elif k < i:\n",
    "        return QuickSelect(A, p, q - 1, k)\n",
    "    else:\n",
    "        return QuickSelect(A, q + 1, r, k - i)\n",
    "\n",
    "#2\n",
    "def FindMinK(A, k):\n",
    "    pivot = BB(A, 0, len(A) - 1, k)\n",
    "    q = Partition(A, 0, len(A) - 1, pivot)\n",
    "    if q == k:\n",
    "        return A[:k]\n",
    "    elif q < k:\n",
    "        return A[:q+1] + FindMinK(A[q+1:], k - (q + 1))\n",
    "    else:\n",
    "        return FindMinK(A[:q], k)\n",
    "\n",
    "#3\n",
    "def split_k(A, k):\n",
    "    res =[]\n",
    "    i = 0\n",
    "    A_rest = A\n",
    "    while(i < k):\n",
    "        k = FindMinK(A_rest,len(a) // k)\n",
    "        res.append(k)\n",
    "        A_rest = A - A[:k]\n",
    "        i += 1\n",
    "    return res"
   ]
  },
  {
   "cell_type": "markdown",
   "metadata": {},
   "source": [
    "## 问题 10：\n",
    "\n",
    "给定一个包含m个**字符串**的数组A, 其中不同的字符串可能有不同的字符数, 但数组中所有字符串的字符总数为n。设计一个算法在 $O(n)$ 时间内对字符串进行排序, 分析算法设计方案, 计算其时间复杂度, 并基于python编程实现该算法。请注意, 假设字符串只包含\"a\",\"b\",...,\"z\", \n",
    "\n",
    "\n",
    "\n",
    "举例1：数组A=[\"a\", \"da\", \"bde\", \"ab\", \"bc\", \"abdc\", \"cdba\"], 排序后的数组应该为：['a', 'ab', 'abdc', 'bc', 'bde', 'cdba', 'da']\n",
    "\n",
    "\n",
    "\n",
    "举例2：数组A=['ab', 'a', 'b', 'abc', 'ba', 'c'], 排序后的数组应该为：\n",
    "\n",
    "['a', 'ab', 'abc', 'b', 'ba', 'c']\n",
    "\n",
    "\n",
    "\n",
    "举例3：数组A=['aef', 'yzr', 'wr', 'ab', 'bhjc', 'lkabdc', 'pwcdba'],  排序后的数组应该为：['ab', 'aef', 'bhjc', 'lkabdc', 'pwcdba', 'wr', 'yzr']\n",
    "\n",
    "\n",
    "\n",
    "note：\n",
    "\n",
    "-  两个字符之间的比较可以考虑比较他们对应的ASCII码值；\n",
    "- python中可以使用`ord(\"a\")`返回字符 “a”对应的ASCII值"
   ]
  },
  {
   "cell_type": "markdown",
   "metadata": {},
   "source": [
    "idea:"
   ]
  },
  {
   "cell_type": "code",
   "execution_count": 52,
   "metadata": {},
   "outputs": [
    {
     "name": "stdout",
     "output_type": "stream",
     "text": [
      "['a', 'ab', 'abdc', 'bc', 'bde', 'cdba', 'da']\n"
     ]
    }
   ],
   "source": [
    "# add your code here\n",
    "def radix_sort_strings(arr):\n",
    "    max_len = max(len(s) for s in arr)\n",
    "\n",
    "    for pos in range(max_len - 1, -1, -1):  \n",
    "        count = [[] for _ in range(27)]  \n",
    "        \n",
    "        for s in arr:\n",
    "            if pos < len(s):\n",
    "                index = ord(s[pos]) - ord('a') + 1  # 'a'~'z' -> 1~26\n",
    "            else:\n",
    "                index = 0  \n",
    "            count[index].append(s)\n",
    "        \n",
    "        arr = [s for bucket in count for s in bucket]\n",
    "\n",
    "    return arr\n",
    "A=[\"a\", \"da\", \"bde\", \"ab\", \"bc\", \"abdc\", \"cdba\"]\n",
    "print(radix_sort_strings(A))\n",
    "\n",
    "# your algorithm time complexity is :"
   ]
  },
  {
   "cell_type": "code",
   "execution_count": null,
   "metadata": {},
   "outputs": [],
   "source": []
  }
 ],
 "metadata": {
  "kernelspec": {
   "display_name": "Python 3 (ipykernel)",
   "language": "python",
   "name": "python3"
  },
  "language_info": {
   "codemirror_mode": {
    "name": "ipython",
    "version": 3
   },
   "file_extension": ".py",
   "mimetype": "text/x-python",
   "name": "python",
   "nbconvert_exporter": "python",
   "pygments_lexer": "ipython3",
   "version": "3.12.4"
  }
 },
 "nbformat": 4,
 "nbformat_minor": 4
}
