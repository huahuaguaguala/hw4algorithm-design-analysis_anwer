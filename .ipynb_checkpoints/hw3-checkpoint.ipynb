{
 "cells": [
  {
   "cell_type": "markdown",
   "metadata": {},
   "source": [
    "## algorithm design and anlysis-2025 spring  homework 3\n",
    "**Deadline**：2025.5.14\n",
    "\n",
    "**name**:\n",
    "\n",
    "\n",
    "note：\n",
    "---\n",
    "1. 带有\\*的题目，申请免上课的同学，必须完成，其他同学选作；\n",
    "2. 请独立完成，如求助了他人或者大模型，请著明，并且不可省略算法分析部分；\n",
    "4. 如若作答有雷同，全部取消成绩；\n",
    "3. 需要书面作答的题目，可以通过引用图片的形式添加，但是注意上传项目时包含所引用的图片的源文件；\n",
    "4. $log_n$ 默认表示$log_2{n}$;"
   ]
  },
  {
   "cell_type": "markdown",
   "metadata": {},
   "source": [
    "## 问题 1  \n",
    "\n",
    "请证明基于比较的排序算法计算复杂度下界为$\\Omega(nlogn)$"
   ]
  },
  {
   "cell_type": "markdown",
   "metadata": {},
   "source": [
    "you can refer a handwritten picture, pleas upload the picture in /fig/xxx.png\n",
    "answer：<img src= \"./fig/3-1.jpg \">"
   ]
  },
  {
   "cell_type": "markdown",
   "metadata": {},
   "source": [
    "## 问题 2 \n",
    "\n",
    "构建二叉搜索树\n",
    "\n",
    "> 1. 给定一个数组 [48, 33, 49, 47, 42, 46, 32], 构建一个二叉搜索树存储这些数据，请**绘制**所构建的**二叉搜索树**（标明结点的值）。\n",
    "> 2. 从第1问的二叉搜索树中删除33，请**绘制**删除33后的**二叉搜索树**（标明结点的值）\n",
    "\n",
    "- 推荐使用graphviz包绘制树的结构"
   ]
  },
  {
   "cell_type": "markdown",
   "metadata": {},
   "source": [
    "you can refer a handwritten picture, pleas upload the picture in /fig/xxx.png\n",
    "answer：\n"
   ]
  },
  {
   "cell_type": "markdown",
   "metadata": {},
   "source": [
    "<img src= \"./fig/3-2.jpg \">"
   ]
  },
  {
   "cell_type": "markdown",
   "metadata": {},
   "source": [
    "## 问题 3 \n",
    "\n",
    "> 下面是九门课程的开始和结束时间:\n",
    ">\n",
    "> [(9:00,12:30), (11:00,14:00), (13:00, 14:30), (9:00,10:30),(13:00, 14:30),(14:00,16:30), (15:00,16:30), (15:00,16:30), (9:00,10:30)]\n",
    ">\n",
    "> 请使用贪婪算法为这九门课分配教室，要求在同一天内安排这些课，并且每个教室同一时间只能安排一门课。\n",
    "\n",
    "**请问最少需要几间教室，罗列出每个教室安排的课程**"
   ]
  },
  {
   "cell_type": "markdown",
   "metadata": {},
   "source": [
    "idea：首先将时间格式转为可直接比较的分钟数，按照开始时间对课程进行排序，再对每一件教室按照排序结果加入剩下课程中最早开始的不冲突课程，直至该教室无法安排后，安排下一个教室，直至课程安排结束。将课程时间表示转为分钟数表示$O(n)$,课程的排序上，这里直接使用的是python自带的sort方法，其最坏时间复杂度为$O(nlogn)$，在后续安排具体教室时，用了双层的循环，时间复杂度为$O(n^2)$，故是按复杂度为$O(n^2)$"
   ]
  },
  {
   "cell_type": "code",
   "execution_count": 11,
   "metadata": {
    "vscode": {
     "languageId": "plaintext"
    }
   },
   "outputs": [
    {
     "name": "stdout",
     "output_type": "stream",
     "text": [
      "教室数：3\n",
      "教室安排： ['9:00-10:30', '11:00-14:00', '14:00-16:30']\n",
      "教室安排： ['9:00-10:30', '13:00-14:30', '15:00-16:30']\n",
      "教室安排： ['9:00-12:30', '13:00-14:30', '15:00-16:30']\n"
     ]
    }
   ],
   "source": [
    "def to_minutes(t):\n",
    "    h, m = map(int, t.split(':'))\n",
    "    return h * 60 + m\n",
    "\n",
    "def assign_classrooms_greedy(intervals):\n",
    "    courses = []\n",
    "    for start, end in intervals:\n",
    "        start_minutes = to_minutes(start)\n",
    "        end_minutes = to_minutes(end)\n",
    "        courses.append((start_minutes, end_minutes))\n",
    "    courses.sort()\n",
    "\n",
    "    classrooms = []  \n",
    "    for start, end in courses:\n",
    "        assigned = False\n",
    "        for room in classrooms:\n",
    "            \n",
    "            if room[-1][1] <= start:\n",
    "                room.append((start, end))\n",
    "                assigned = True\n",
    "                break\n",
    "        if not assigned:\n",
    "            classrooms.append([(start, end)]) \n",
    "\n",
    "    return len(classrooms), classrooms\n",
    "courses = [\n",
    "    (\"9:00\", \"12:30\"), (\"11:00\", \"14:00\"), (\"13:00\", \"14:30\"),\n",
    "    (\"9:00\", \"10:30\"), (\"13:00\", \"14:30\"), (\"14:00\", \"16:30\"),\n",
    "    (\"15:00\", \"16:30\"), (\"15:00\", \"16:30\"), (\"9:00\", \"10:30\")\n",
    "]\n",
    "\n",
    "rooms_needed, schedule = assign_classrooms_greedy(courses)\n",
    "\n",
    "print(f\"教室数：{rooms_needed}\")\n",
    "for i, room in enumerate(schedule):\n",
    "    print(f\"教室安排：\", [f\"{s//60}:{s%60:02d}-{e//60}:{e%60:02d}\" for s, e in room])"
   ]
  },
  {
   "cell_type": "markdown",
   "metadata": {},
   "source": [
    "## 问题 4 \n",
    "\n",
    "> 爬楼梯问题：假设爬楼梯时你每次只能爬一阶或者爬两阶，问爬上n阶的楼梯，你一共有多少种方法\n",
    "\n",
    "请设计算法完成该问题，分析算法设计思路，计算时间复杂度，并基于python编程实现"
   ]
  },
  {
   "cell_type": "markdown",
   "metadata": {},
   "source": [
    "idea：爬第n层，其方法均为上一阶跨一步或者上两步跨两步得到，即f(n)=f(n-1)+f(n-2)，仅循环，故时间复杂度为$O(n)$"
   ]
  },
  {
   "cell_type": "code",
   "execution_count": 11,
   "metadata": {},
   "outputs": [
    {
     "name": "stdout",
     "output_type": "stream",
     "text": [
      "3\n"
     ]
    }
   ],
   "source": [
    "# add your code here\n",
    "def climb_stairs(n):\n",
    "    if n == 1:\n",
    "        return 1\n",
    "    if n == 2:\n",
    "        return 2\n",
    "    a, b = 1, 2 \n",
    "    for _ in range(3, n + 1):\n",
    "        a, b = b, a + b\n",
    "    return b\n",
    "print(climb_stairs(3))\n",
    "# your algorithm time complexity is: O(n)"
   ]
  },
  {
   "cell_type": "markdown",
   "metadata": {},
   "source": [
    "## 问题 5 \n",
    "\n",
    "> 0-1背包问题：现在有4块大理石，每个大理石对应的重量和价值使用一个元组表示, 即（重量，价值），4块大理石的重量和价值为：[(5,10), (4,40), (6,30), (3, 50)], 假设你有一辆最大承重为9的小推车，请问使用这个小推车装大理石的最大价值为多少\n",
    "\n",
    "请设计一个算法解决该问题，分析算法设计思路，计算时间复杂度，并基于python编程实现"
   ]
  },
  {
   "cell_type": "markdown",
   "metadata": {},
   "source": [
    "idea：动态规划0-1背包，在每个物品待选时，判断能否加入该物品，若能则根据加入后的价值更新当前状态(判断是dp[j]还是dp[j-w]+v大),时间复杂度为$O(nc)$，c为书包容量"
   ]
  },
  {
   "cell_type": "code",
   "execution_count": 15,
   "metadata": {},
   "outputs": [
    {
     "name": "stdout",
     "output_type": "stream",
     "text": [
      "90\n"
     ]
    }
   ],
   "source": [
    "# add your code here\n",
    "def max_val(items, c):\n",
    "    dp = [0] * (c + 1)\n",
    "    for w, v in items:\n",
    "        for j in range(c, w - 1, -1): \n",
    "            dp[j] = max(dp[j], dp[j - w] + v)\n",
    "    return dp[c]\n",
    "\n",
    "items = [(5,10), (4,40), (6,30), (3, 50)]\n",
    "c = 9\n",
    "print(max_val(items, c))\n",
    "\n",
    "# your algorithm time complexity is:O(nc)"
   ]
  },
  {
   "cell_type": "markdown",
   "metadata": {},
   "source": [
    "## 问题 6 \n",
    "给定 `n` 个非负整数表示每个宽度为 `1` 的柱子的高度图，计算按此排列的柱子，下雨之后能接多少雨水。\n",
    "\n",
    "\n",
    "\n",
    "<div style=\"text-align:center;width:800px;\"> <img alt=\"\" src=\"./fig/hw3q6.png\"> </div>\n",
    "\n",
    "请分析算法设计思路，计算时间复杂度，并基于python编程实现"
   ]
  },
  {
   "cell_type": "markdown",
   "metadata": {},
   "source": [
    "idea：重点为找到每个点左右的最大值，然后取其高度较低的为该位置的蓄水高度。leftmax[i]记录i位置左边最高，rightmax[i]记录i位置右侧最高值，两者分别从左往右、从右往左进行遍历($O(n)$)完成计算。对于每个i位置他的蓄水量由它左右侧高峰的较低值确定，将所有位置蓄水量相加($O(n)$)，故最终时间复杂度为$O(n)$"
   ]
  },
  {
   "cell_type": "code",
   "execution_count": 17,
   "metadata": {},
   "outputs": [
    {
     "name": "stdout",
     "output_type": "stream",
     "text": [
      "9\n"
     ]
    }
   ],
   "source": [
    "# add your code here\n",
    "def rain(height):\n",
    "    n = len(height)\n",
    "    leftmax = [height[0]] + [0] * (n - 1)\n",
    "    for i in range (1,n):\n",
    "        leftmax[i] = max(leftmax[i - 1], height[i])\n",
    "    rightmax = [0] * (n - 1) + [height[n -1]]\n",
    "    for i in range(n - 2, -1, -1):\n",
    "        rightmax[i] = max(rightmax[i + 1], height[i])\n",
    "    total = 0\n",
    "    for i in range(n):\n",
    "        min_max = min(leftmax[i],rightmax[i])\n",
    "        total += (min_max - height[i])\n",
    "    return total\n",
    "\n",
    "height = [4,2,0,3,2,5]\n",
    "print(rain(height))\n",
    "\n",
    "# your algorithm time complexity is:O(n)"
   ]
  },
  {
   "cell_type": "markdown",
   "metadata": {},
   "source": [
    "## 问题 7 \n",
    "\n",
    "**股票投资组合优化**： 假设你是一位投资者，想要在不同的股票中分配你的资金，以最大化你的投资回报。每只股票都有不同的预期收益率和风险。你的目标是选择一些股票，使得总投资金额不超过你的预算，并且预期收益最大化。\n",
    "\n",
    "在这个情况下，你可以将每只股票视为一个“物品”，其重量为投资金额，价值为预期收益率。然后，你可以使用分级背包问题的方法来选择部分股票，以便在预算内获得最大的预期收益。\n",
    "\n",
    "以下是一个简化的例子：\n",
    "\n",
    "假设你有以下三只股票可供选择：\n",
    "\n",
    "1. 股票 A：投资金额 5000 美元，预期收益率 10%\n",
    "2. 股票 B：投资金额 3000 美元，预期收益率 8%\n",
    "3. 股票 C：投资金额 2000 美元，预期收益率 12%\n",
    "\n",
    "请设计算法找到最优投资方案，分析算法设计思路，计算时间复杂度，并基于python编程实现"
   ]
  },
  {
   "cell_type": "markdown",
   "metadata": {},
   "source": [
    "idea：构建dp表存储当前预算下的最大利润，在此状态下对每一只股票进行处理，判断本金是否足够以及根据收益是否大于前一个状态来更新状态表，并将最优的投资方法记录，时间复杂度为$O(nm)$，m为预算"
   ]
  },
  {
   "cell_type": "code",
   "execution_count": 35,
   "metadata": {
    "ExecuteTime": {
     "end_time": "2025-05-13T15:42:04.208998Z",
     "start_time": "2025-05-13T15:42:04.204498Z"
    }
   },
   "outputs": [
    {
     "name": "stdout",
     "output_type": "stream",
     "text": [
      "预算: $11000\n",
      "最大收益: $1220.00\n",
      "选择的股票及数量:\n",
      "  C: 3只\n",
      "  A: 1只\n"
     ]
    }
   ],
   "source": [
    "def max_profit_stocks_unbounded_with_tracking(stocks, budget):\n",
    "    n = len(stocks)\n",
    "    dp = [0] * (budget + 1) \n",
    "    selection = [[] for _ in range(budget + 1)] \n",
    "    \n",
    "    for j in range(1, budget + 1):\n",
    "        for i in range(n):\n",
    "            cost, rate = stocks[i]\n",
    "            profit = cost * rate / 100\n",
    "            if j >= cost and dp[j] < dp[j - cost] + profit:\n",
    "                dp[j] = dp[j - cost] + profit\n",
    "                selection[j] = selection[j - cost] + [i]  \n",
    "    \n",
    "    from collections import Counter\n",
    "    counts = Counter(selection[budget])\n",
    "    selected_stocks = {chr(65 + idx): counts[idx] for idx in counts}\n",
    "    \n",
    "    return dp[budget], selected_stocks\n",
    "\n",
    "stocks = [\n",
    "    (5000, 10) , \n",
    "    (3000, 8),   \n",
    "    (2000, 12),    \n",
    "]\n",
    "budget = 11000\n",
    "\n",
    "print(f\"预算: ${budget}\")\n",
    "max_profit, selected = max_profit_stocks_unbounded_with_tracking(stocks, budget)\n",
    "print(f\"最大收益: ${max_profit:.2f}\")\n",
    "print(\"选择的股票及数量:\")\n",
    "for stock, count in selected.items():\n",
    "    cost, rate = stocks[ord(stock) - 65]\n",
    "    print(f\"  {stock}: {count}只\")"
   ]
  },
  {
   "cell_type": "markdown",
   "metadata": {},
   "source": [
    "## 问题 8\n",
    "\n",
    "给你二叉搜索树的根节点 root ，该树中的恰好两个节点的值被错误地交换。请在不改变其结构的情况下，恢复这棵树 。设计算法解决该问题，分析算法设计思路，计算时间复杂度，并基于python编程实现\n",
    "\n",
    "e.g.:\n",
    "---\n",
    "1.\n",
    "\n",
    "<div style=\"text-align:center;width:200px;\"> <img alt=\"\" src=\"./fig/hw3q9-1.jpg\"> </div>\n",
    "输入：root = [1,3,null,null,2]， 输出为：[3,1,null,null,2]， \n",
    "\n",
    "解释：3 不能是 1 的左孩子，因为 3 > 1 。交换 1 和 3 使二叉搜索树有效。\n",
    "\n",
    "2.\n",
    "\n",
    " <div style=\"text-align:center;width:200px;\"> <img alt=\"\" src=\"./fig/hw3q9-1.jpg\"> </div>\n",
    "输入： root=[3,1,4,null,null,2]， 输出为：[2,1,4,null,null,3]\n",
    "\n",
    "解释：2 不能在 3 的右子树中，因为 2 < 3 。交换 2 和 3 使二叉搜索树有效。"
   ]
  },
  {
   "cell_type": "markdown",
   "metadata": {},
   "source": [
    "idea：中序遍历二叉搜索树，找到失序的那两个值，回到二叉树中，将这两个节点的值交换，不考虑二叉搜索树的构建，"
   ]
  },
  {
   "cell_type": "code",
   "execution_count": 51,
   "metadata": {},
   "outputs": [
    {
     "name": "stdout",
     "output_type": "stream",
     "text": [
      "[3, 1, None, None, 2]\n"
     ]
    }
   ],
   "source": [
    "class TreeNode:\n",
    "    def __init__(self, val=0, left=None, right=None):\n",
    "        self.val = val\n",
    "        self.left = left\n",
    "        self.right = right\n",
    "\n",
    "def build_tree(vals):\n",
    "    if not vals or vals[0] is None:\n",
    "        return None\n",
    "    root = TreeNode(vals[0])\n",
    "    queue = [root]\n",
    "    i = 1\n",
    "    while queue and i < len(vals):\n",
    "        node = queue.pop(0)\n",
    "        if vals[i] is not None:\n",
    "            node.left = TreeNode(vals[i])\n",
    "            queue.append(node.left)\n",
    "        i += 1\n",
    "        if i < len(vals) and vals[i] is not None:\n",
    "            node.right = TreeNode(vals[i])\n",
    "            queue.append(node.right)\n",
    "        i += 1\n",
    "    return root\n",
    "\n",
    "def recoverTree(root):\n",
    "    nodes = []\n",
    "    \n",
    "    def inorder(root):\n",
    "        if not root:\n",
    "            return\n",
    "        inorder(root.left)\n",
    "        nodes.append(root)\n",
    "        inorder(root.right)\n",
    "    \n",
    "    inorder(root)\n",
    "    \n",
    "    x = None\n",
    "    y = None\n",
    "    prev = nodes[0]\n",
    "    \n",
    "    for i in range(1, len(nodes)):\n",
    "        if prev.val > nodes[i].val:\n",
    "            y = nodes[i]\n",
    "            if x is None:\n",
    "                x = prev\n",
    "        prev = nodes[i]\n",
    "    \n",
    "    if x and y:\n",
    "        x.val, y.val = y.val, x.val\n",
    "    \n",
    "    return root\n",
    "\n",
    "def tree_to_list(root):\n",
    "    if not root:\n",
    "        return []\n",
    "    queue = [root]\n",
    "    result = []\n",
    "    while queue:\n",
    "        node = queue.pop(0)\n",
    "        if node:\n",
    "            result.append(node.val)\n",
    "            queue.append(node.left)\n",
    "            queue.append(node.right)\n",
    "        else:\n",
    "            result.append(None)\n",
    "    while result and result[-1] is None:\n",
    "        result.pop()\n",
    "    return result\n",
    "\n",
    "root_list = [1, 3, None, None, 2]\n",
    "root = build_tree(root_list)\n",
    "recovered_root = recoverTree(root)\n",
    "print(tree_to_list(root)) "
   ]
  },
  {
   "cell_type": "markdown",
   "metadata": {},
   "source": [
    "## 问题 9  \n",
    "\n",
    "给你一个二叉树的根节点 root ，树中每个节点都存放有一个 0 到 9 之间的数字。每条从根节点到叶节点的路径都代表一个数字：\n",
    "\n",
    "> 例如，从根节点到叶节点的路径 1 -> 2 -> 3 表示数字 123 。\n",
    "\n",
    "设计一个算法计算从根节点到叶节点生成的所有数字之和 ，分析算法设计思路，计算时间复杂度，并基于python编程实现\n",
    "\n",
    "叶节点:是指没有子节点的节点。\n",
    "\n",
    "e.g.:\n",
    "---\n",
    "1.\n",
    "\n",
    " <div style=\"text-align:center;width:200px;\"> <img alt=\"figure\" src=\"./fig/hw3q10-1.jpg\"> </div>\n",
    "\n",
    " 输入：root = [1,2,3], 输出：25\n",
    "\n",
    "解释：从根到叶子节点路径 1->2 代表数字 12，1->3 代表数字 13，因此和为 12 + 13 = 25 。\n",
    "\n",
    "2.\n",
    "\n",
    " <div style=\"text-align:center;width:200px;\"> <img alt=\"figure\" src=\"./fig/hw3q10-2.jpg\"> </div>\n",
    "\n",
    " 输入：root = [4,9,0,5,1], 输出：1026\n",
    "\n",
    "解释：从根到叶子节点路径 4->9->5 代表数字 495，4->9->1 代表数字 491，4->0 代表数字 40。因此和为 495 + 491 + 40 = 1026 。"
   ]
  },
  {
   "cell_type": "markdown",
   "metadata": {},
   "source": [
    "idea：即记录每次深度遍历，将每次深度遍历的路径值转为一个数字并相加，其时间复杂度主要为深度遍历，故为$O(n)$"
   ]
  },
  {
   "cell_type": "code",
   "execution_count": 57,
   "metadata": {},
   "outputs": [
    {
     "name": "stdout",
     "output_type": "stream",
     "text": [
      "1026\n"
     ]
    }
   ],
   "source": [
    "# add your code here\n",
    "class TreeNode:\n",
    "    def __init__(self, val=0, left=None, right=None):\n",
    "        self.val = val\n",
    "        self.left = left\n",
    "        self.right = right\n",
    "\n",
    "def sumNumbers(root):\n",
    "    def dfs(node, current_sum):\n",
    "        if not node:\n",
    "            return 0\n",
    "        current_sum = current_sum * 10 + node.val\n",
    "        if not node.left and not node.right:\n",
    "            return current_sum\n",
    "        return dfs(node.left, current_sum) + dfs(node.right, current_sum)\n",
    "    \n",
    "    return dfs(root, 0)\n",
    "\n",
    "def build_tree(vals):\n",
    "    if not vals or vals[0] is None:\n",
    "        return None\n",
    "    root = TreeNode(vals[0])\n",
    "    queue = [root]\n",
    "    i = 1\n",
    "    while queue and i < len(vals):\n",
    "        node = queue.pop(0)\n",
    "        if vals[i] is not None:\n",
    "            node.left = TreeNode(vals[i])\n",
    "            queue.append(node.left)\n",
    "        i += 1\n",
    "        if i < len(vals) and vals[i] is not None:\n",
    "            node.right = TreeNode(vals[i])\n",
    "            queue.append(node.right)\n",
    "        i += 1\n",
    "    return root\n",
    "\n",
    "root = build_tree([4,9,0,5,1])\n",
    "print(sumNumbers(root)) \n",
    "# your algorithm time complexity is:O(n)"
   ]
  },
  {
   "cell_type": "markdown",
   "metadata": {},
   "source": [
    "## 问题 10  \n",
    "\n",
    "给你一个二叉树的根节点 root ， 检查它是否轴对称。\n",
    "\n",
    "1. 分析算法设计思路，计算时间复杂度，并基于python编程实现\n",
    "2. \\* 设计使用递归和迭代两种方法解决这个问题，计算时间复杂度，并基于python编程实现\n",
    "\n",
    "e.g.:\n",
    "---\n",
    "1.\n",
    "\n",
    " <div style=\"text-align:center;width:200px;\"> <img alt=\"figure\" src=\"./fig/hw3q11-1.png\"> </div>\n",
    "\n",
    " 输入：root = [1,2,2,3,4,4,3]， 输出：true\n",
    "\n",
    "解释：二叉树 [1,2,2,3,4,4,3] 对称。\n",
    "\n",
    "2.\n",
    "\n",
    " <div style=\"text-align:center;width:200px;\"> <img alt=\"figure\" src=\"./fig/hw3q11-2.png\"> </div>\n",
    "\n",
    " 输入：root = [1,2,2,null,3,null,3]， 输出：false"
   ]
  },
  {
   "cell_type": "markdown",
   "metadata": {},
   "source": [
    "idea:递归法：左子树根节点对应右子树根节点，左子树左孩子对应右子树右孩子，左子树右孩子对应右子树左孩子。判断条件，对应对称：左右节点均无或者节点值相同；不对称;一个为空另一个不为空或者节点值不同。此方法每次递归比较两个节点的值，调用两次递归，最终遍历了该树，故时间复杂度为$O(n)$\n",
    "迭代法：利用队列来存储需要比较的节点对初始时将左右节点依次入队，然后判断是否相同，若相同则接下来两个需要比较的节点入队比较，若不相同，则直接返回false。树的每个节点会入队出队一次并进行比较，同样地对树的节点进行了遍历，故时间复杂度为$O(n)$"
   ]
  },
  {
   "cell_type": "code",
   "execution_count": 71,
   "metadata": {},
   "outputs": [
    {
     "name": "stdout",
     "output_type": "stream",
     "text": [
      "True\n",
      "False\n"
     ]
    }
   ],
   "source": [
    "#递归法\n",
    "class TreeNode:\n",
    "    def __init__(self, val=0, left=None, right=None):\n",
    "        self.val = val\n",
    "        self.left = left\n",
    "        self.right = right\n",
    "\n",
    "def build_tree(vals):\n",
    "    if not vals or vals[0] is None:\n",
    "        return None\n",
    "    \n",
    "    root = TreeNode(vals[0])\n",
    "    queue = [root] \n",
    "    i = 1\n",
    "    \n",
    "    while queue and i < len(vals):\n",
    "        node = queue.pop(0) \n",
    "        \n",
    "        if i < len(vals) and vals[i] is not None:\n",
    "            node.left = TreeNode(vals[i])\n",
    "            queue.append(node.left)\n",
    "        i += 1\n",
    "        \n",
    "        if i < len(vals) and vals[i] is not None:\n",
    "            node.right = TreeNode(vals[i])\n",
    "            queue.append(node.right)\n",
    "        i += 1\n",
    "    \n",
    "    return root\n",
    "    \n",
    "def isSymmetric(root):\n",
    "    def isMirror(left, right):\n",
    "        if not left and not right:\n",
    "            return True\n",
    "        if not left or not right:\n",
    "            return False\n",
    "        return (left.val == right.val) and isMirror(left.left, right.right) and isMirror(left.right, right.left)\n",
    "    \n",
    "    if not root:\n",
    "        return True\n",
    "    return isMirror(root.left, root.right)\n",
    "\n",
    "\n",
    "root1 = [1, 2, 2, 3, 4, 4, 3] \n",
    "root2 = [1,2,2,None,3,None,3]\n",
    "root1 = build_tree(root1)\n",
    "root2 = build_tree(root2)\n",
    "print(isSymmetric(root1)) \n",
    "print(isSymmetric(root2)) \n",
    "# your algorithm time complexity is:O(n)"
   ]
  },
  {
   "cell_type": "code",
   "execution_count": 1,
   "metadata": {},
   "outputs": [
    {
     "name": "stdout",
     "output_type": "stream",
     "text": [
      "True\n",
      "False\n"
     ]
    }
   ],
   "source": [
    "#迭代法\n",
    "class TreeNode:\n",
    "    def __init__(self, val=0, left=None, right=None):\n",
    "        self.val = val\n",
    "        self.left = left\n",
    "        self.right = right\n",
    "\n",
    "def build_tree(vals):\n",
    "    if not vals or vals[0] is None:\n",
    "        return None\n",
    "    \n",
    "    root = TreeNode(vals[0])\n",
    "    queue = [root] \n",
    "    i = 1\n",
    "    \n",
    "    while queue and i < len(vals):\n",
    "        node = queue.pop(0) \n",
    "        \n",
    "        if i < len(vals) and vals[i] is not None:\n",
    "            node.left = TreeNode(vals[i])\n",
    "            queue.append(node.left)\n",
    "        i += 1\n",
    "        \n",
    "        if i < len(vals) and vals[i] is not None:\n",
    "            node.right = TreeNode(vals[i])\n",
    "            queue.append(node.right)\n",
    "        i += 1\n",
    "    \n",
    "    return root\n",
    "    \n",
    "def isSymmetric(root):\n",
    "    if not root:\n",
    "        return True\n",
    "    \n",
    "    queue = []\n",
    "    queue.append((root.left, root.right))\n",
    "    \n",
    "    while queue:\n",
    "        left, right = queue.pop(0) \n",
    "        \n",
    "        if not left and not right:\n",
    "            continue\n",
    "        if not left or not right:\n",
    "            return False\n",
    "        if left.val != right.val:\n",
    "            return False\n",
    "        \n",
    "        queue.append((left.left, right.right))\n",
    "        queue.append((left.right, right.left))\n",
    "    \n",
    "    return True\n",
    "\n",
    "root1 = [1, 2, 2, 3, 4, 4, 3] \n",
    "root2 = [1,2,2,None,3,None,3]\n",
    "root1 = build_tree(root1)\n",
    "root2 = build_tree(root2)\n",
    "print(isSymmetric(root1)) \n",
    "print(isSymmetric(root2)) \n",
    "\n",
    "# your algorithm time complexity is:O(n)"
   ]
  },
  {
   "cell_type": "markdown",
   "metadata": {},
   "source": [
    "## 问题 11  \n",
    "\n",
    "给你一个由 '1'（陆地）和 '0'（水）组成的的二维网格，请你计算网格中岛屿的数量。岛屿总是被水包围，并且每座岛屿只能由水平方向和/或竖直方向上相邻的陆地连接形成。\n",
    "\n",
    "此外，你可以假设该网格的四条边均被水包围。\n",
    "\n",
    "分析算法设计思路，计算时间复杂度，并基于python编程实现\n",
    "\n",
    "e.g.:\n",
    "---\n",
    "1.\n",
    "输入：grid = [\n",
    "\n",
    "    [\"1\",\"1\",\"1\",\"1\",\"0\"],\n",
    "\n",
    "    [\"1\",\"1\",\"0\",\"1\",\"0\"], \n",
    "\n",
    "    [\"1\",\"1\",\"0\",\"0\",\"0\"], \n",
    "\n",
    "    [\"0\",\"0\",\"0\",\"0\",\"0\"]  \n",
    "\n",
    "]\n",
    "\n",
    "输出：1\n",
    "\n",
    "2.\n",
    "输入：grid = [\n",
    "\n",
    "    [\"1\",\"1\",\"0\",\"0\",\"0\"],\n",
    "\n",
    "    [\"1\",\"1\",\"0\",\"0\",\"0\"],\n",
    "\n",
    "    [\"0\",\"0\",\"1\",\"0\",\"0\"],\n",
    "\n",
    "    [\"0\",\"0\",\"0\",\"1\",\"1\"]\n",
    "\n",
    "]\n",
    "\n",
    "输出：3"
   ]
  },
  {
   "cell_type": "markdown",
   "metadata": {},
   "source": [
    "idea:对图进行顺序遍历当遇到陆地时，岛屿数量加1，按照深度遍历将该点四个方向相连的陆地标记为‘0’，后续继续遍历完所有的节点，得到最终的岛屿数量。因实现的是对该矩阵图的遍历，每一次最多有比较和赋值的操作，故时间复杂度为$O(m*n)$m,n为矩阵长宽"
   ]
  },
  {
   "cell_type": "code",
   "execution_count": 9,
   "metadata": {},
   "outputs": [
    {
     "name": "stdout",
     "output_type": "stream",
     "text": [
      "1\n",
      "3\n"
     ]
    }
   ],
   "source": [
    "# add your code here\n",
    "def numIslands(grid):\n",
    "\n",
    "    m, n = len(grid), len(grid[0])\n",
    "    count = 0\n",
    "\n",
    "    def dfs(i, j):\n",
    "        if i < 0 or j < 0 or i >= m or j >= n or grid[i][j] == '0':\n",
    "            return\n",
    "        grid[i][j] = '0'\n",
    "    \n",
    "        dfs(i + 1, j)\n",
    "        dfs(i - 1, j)\n",
    "        dfs(i, j + 1)\n",
    "        dfs(i, j - 1)\n",
    "\n",
    "    for i in range(m):\n",
    "        for j in range(n):\n",
    "            if grid[i][j] == '1':\n",
    "                dfs(i, j)\n",
    "                count += 1\n",
    "\n",
    "    return count\n",
    "\n",
    "grid = [\n",
    "    [\"1\",\"1\",\"1\",\"1\",\"0\"],\n",
    "    [\"1\",\"1\",\"0\",\"1\",\"0\"],\n",
    "    [\"1\",\"1\",\"0\",\"0\",\"0\"],\n",
    "    [\"0\",\"0\",\"0\",\"0\",\"0\"]\n",
    "]\n",
    "\n",
    "print(numIslands(grid))\n",
    "\n",
    "grid1 = [\n",
    "\n",
    "[\"1\",\"1\",\"0\",\"0\",\"0\"],\n",
    "\n",
    "[\"1\",\"1\",\"0\",\"0\",\"0\"],\n",
    "\n",
    "[\"0\",\"0\",\"1\",\"0\",\"0\"],\n",
    "\n",
    "[\"0\",\"0\",\"0\",\"1\",\"1\"]\n",
    "\n",
    "]\n",
    "print(numIslands(grid1)) \n",
    "\n",
    "# your algorithm time complexity is:O(mn)"
   ]
  },
  {
   "cell_type": "code",
   "execution_count": null,
   "metadata": {},
   "outputs": [],
   "source": []
  }
 ],
 "metadata": {
  "kernelspec": {
   "display_name": "Python 3 (ipykernel)",
   "language": "python",
   "name": "python3"
  },
  "language_info": {
   "codemirror_mode": {
    "name": "ipython",
    "version": 3
   },
   "file_extension": ".py",
   "mimetype": "text/x-python",
   "name": "python",
   "nbconvert_exporter": "python",
   "pygments_lexer": "ipython3",
   "version": "3.12.4"
  }
 },
 "nbformat": 4,
 "nbformat_minor": 4
}
